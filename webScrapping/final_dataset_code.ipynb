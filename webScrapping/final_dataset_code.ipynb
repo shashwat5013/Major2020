{
 "cells": [
  {
   "cell_type": "code",
   "execution_count": 93,
   "metadata": {},
   "outputs": [],
   "source": [
    "import pandas as pd\n",
    "import re"
   ]
  },
  {
   "cell_type": "code",
   "execution_count": 94,
   "metadata": {},
   "outputs": [],
   "source": [
    "##################################################################################################################\n",
    "##################### the only change you need to make is on this cell############################################\n",
    "#################################################################################################################\n",
    "\n",
    "data=pd.read_csv('C:/Users/shash/Desktop/Data_Science/Major2020/webScrapping/refined/kiaraadvani.csv')\n",
    "name_influencer=\"kiaraadvani\"\n",
    "country=\"enter the country of the influnecer\"\n",
    "category=\"enter the category of the inflencer\""
   ]
  },
  {
   "cell_type": "code",
   "execution_count": null,
   "metadata": {},
   "outputs": [],
   "source": []
  },
  {
   "cell_type": "code",
   "execution_count": 95,
   "metadata": {},
   "outputs": [],
   "source": [
    "def average_videos_views(data_frame):\n",
    "    videos=data_frame[data_frame['type']=='video']['likes'].mean()\n",
    "    return videos"
   ]
  },
  {
   "cell_type": "code",
   "execution_count": 96,
   "metadata": {},
   "outputs": [],
   "source": [
    "average_v_views=average_videos_views(data)"
   ]
  },
  {
   "cell_type": "code",
   "execution_count": 97,
   "metadata": {},
   "outputs": [],
   "source": [
    "def average_videos_comments(data_frame):\n",
    "    comments=data_frame[data_frame['type']=='video']['comments'].mean()\n",
    "    return comments"
   ]
  },
  {
   "cell_type": "code",
   "execution_count": 98,
   "metadata": {},
   "outputs": [],
   "source": [
    "average_v_comment=(average_videos_comments(data))"
   ]
  },
  {
   "cell_type": "code",
   "execution_count": 99,
   "metadata": {},
   "outputs": [],
   "source": [
    "def average_post_comments(data_frame):\n",
    "    posts=data_frame[data_frame['type']=='post']['comments'].mean()\n",
    "    return posts"
   ]
  },
  {
   "cell_type": "code",
   "execution_count": 100,
   "metadata": {},
   "outputs": [],
   "source": [
    "average_p_comments=(average_post_comments(data))"
   ]
  },
  {
   "cell_type": "code",
   "execution_count": 101,
   "metadata": {},
   "outputs": [],
   "source": [
    "def average_post_likes(data_frame):\n",
    "    posts=data_frame[data_frame['type']=='post']['likes'].mean()\n",
    "    return posts"
   ]
  },
  {
   "cell_type": "code",
   "execution_count": 102,
   "metadata": {},
   "outputs": [],
   "source": [
    "average_p_likes=(average_post_likes(data))"
   ]
  },
  {
   "cell_type": "code",
   "execution_count": 103,
   "metadata": {},
   "outputs": [],
   "source": [
    "def making_description(data_frame):\n",
    "    about_posts=data_frame['about_post']\n",
    "    lst=[]\n",
    "    for d in about_posts:\n",
    "        lst.append(d.replace(\"\\n\",\" \"))\n",
    "    string =\" \"\n",
    "    for d in lst:\n",
    "        string+=d+\" \"\n",
    "    return(string)"
   ]
  },
  {
   "cell_type": "code",
   "execution_count": 104,
   "metadata": {},
   "outputs": [],
   "source": [
    "description=making_description(data)"
   ]
  },
  {
   "cell_type": "code",
   "execution_count": 105,
   "metadata": {},
   "outputs": [],
   "source": [
    "def tagged_name(data_frame):\n",
    "    tags=data_frame['tagged_names']\n",
    "    lst=[]\n",
    "    for d in tags:\n",
    "        lst.append(d.replace(\"\\n\",\" \"))\n",
    "    string =\" \"\n",
    "    for d in lst:\n",
    "        string+=d+\" \"\n",
    "    return(string)"
   ]
  },
  {
   "cell_type": "code",
   "execution_count": 106,
   "metadata": {},
   "outputs": [],
   "source": [
    "tagged_list=(tagged_name(data))"
   ]
  },
  {
   "cell_type": "code",
   "execution_count": 107,
   "metadata": {},
   "outputs": [],
   "source": [
    "def total_videos(data_frame):\n",
    "    return (data_frame[data_frame['type']=='video']).shape[0]"
   ]
  },
  {
   "cell_type": "code",
   "execution_count": 108,
   "metadata": {},
   "outputs": [
    {
     "name": "stdout",
     "output_type": "stream",
     "text": [
      "828\n"
     ]
    }
   ],
   "source": [
    "def total_post(data_frame):\n",
    "    return (data_frame[data_frame['type']=='post']).shape[0]\n",
    "\n",
    "print(total_post(data))\n",
    "\n",
    "\n",
    "_total_videos=total_videos(data)\n",
    "_total_post=total_post(data)"
   ]
  },
  {
   "cell_type": "code",
   "execution_count": 109,
   "metadata": {},
   "outputs": [],
   "source": [
    "df = pd.DataFrame(columns =['name','total_videos','average_videos_views','average_videos_comments','total_posts','average_post_comments','average_post_likes','description','tagged_names','country','category'])"
   ]
  },
  {
   "cell_type": "code",
   "execution_count": 110,
   "metadata": {},
   "outputs": [],
   "source": [
    "to_append=[ name_influencer, _total_videos, average_v_views, average_v_comment, _total_post, average_p_comments, average_p_likes, description, tagged_list, country, category]\n",
    "#print(to_append)\n",
    "try:\n",
    "    prev=pd.read_csv('C:/Users/shash/Desktop/Data_Science/Major2020/webScrapping/final_dataset.csv')\n",
    "    prev_length=len(prev)\n",
    "    prev.loc[prev_length]=to_append\n",
    "    new_data=prev\n",
    "except:\n",
    "    prev_length=len(df)\n",
    "    df.loc[prev_length]=to_append\n",
    "    new_data=df\n",
    "    \n",
    "finally:\n",
    "    new_data.to_csv('C:/Users/shash/Desktop/Data_Science/Major2020/webScrapping/final_dataset.csv',index=False)        \n",
    "    \n",
    "    \n",
    "    \n",
    "    "
   ]
  },
  {
   "cell_type": "code",
   "execution_count": 31,
   "metadata": {},
   "outputs": [],
   "source": [
    "import pandas as pd\n",
    "data=pd.read_excel('Influencer_with_links.xlsx',index=False)"
   ]
  },
  {
   "cell_type": "code",
   "execution_count": 32,
   "metadata": {},
   "outputs": [
    {
     "data": {
      "text/html": [
       "<div>\n",
       "<style scoped>\n",
       "    .dataframe tbody tr th:only-of-type {\n",
       "        vertical-align: middle;\n",
       "    }\n",
       "\n",
       "    .dataframe tbody tr th {\n",
       "        vertical-align: top;\n",
       "    }\n",
       "\n",
       "    .dataframe thead th {\n",
       "        text-align: right;\n",
       "    }\n",
       "</style>\n",
       "<table border=\"1\" class=\"dataframe\">\n",
       "  <thead>\n",
       "    <tr style=\"text-align: right;\">\n",
       "      <th></th>\n",
       "      <th>name</th>\n",
       "      <th>id</th>\n",
       "    </tr>\n",
       "  </thead>\n",
       "  <tbody>\n",
       "    <tr>\n",
       "      <th>0</th>\n",
       "      <td>philCohen</td>\n",
       "      <td>https://www.instagram.com/thepacman82/?hl=en</td>\n",
       "    </tr>\n",
       "    <tr>\n",
       "      <th>1</th>\n",
       "      <td>urvashirautela</td>\n",
       "      <td>https://www.instagram.com/urvashirautela/?hl=en</td>\n",
       "    </tr>\n",
       "    <tr>\n",
       "      <th>2</th>\n",
       "      <td>Danielle Bernstein</td>\n",
       "      <td>https://www.instagram.com/weworewhat/?hl=en</td>\n",
       "    </tr>\n",
       "    <tr>\n",
       "      <th>3</th>\n",
       "      <td>gaby</td>\n",
       "      <td>https://www.instagram.com/gabalabbb/?hl=en</td>\n",
       "    </tr>\n",
       "    <tr>\n",
       "      <th>4</th>\n",
       "      <td>zaarayesmin</td>\n",
       "      <td>https://www.instagram.com/zaarayesmin/?hl=en</td>\n",
       "    </tr>\n",
       "  </tbody>\n",
       "</table>\n",
       "</div>"
      ],
      "text/plain": [
       "                 name                                               id\n",
       "0           philCohen     https://www.instagram.com/thepacman82/?hl=en\n",
       "1      urvashirautela  https://www.instagram.com/urvashirautela/?hl=en\n",
       "2  Danielle Bernstein      https://www.instagram.com/weworewhat/?hl=en\n",
       "3                gaby       https://www.instagram.com/gabalabbb/?hl=en\n",
       "4         zaarayesmin     https://www.instagram.com/zaarayesmin/?hl=en"
      ]
     },
     "execution_count": 32,
     "metadata": {},
     "output_type": "execute_result"
    }
   ],
   "source": [
    "data.head(n=5)"
   ]
  },
  {
   "cell_type": "code",
   "execution_count": 38,
   "metadata": {},
   "outputs": [
    {
     "name": "stdout",
     "output_type": "stream",
     "text": [
      "        name                                            id\n",
      "0  philCohen  https://www.instagram.com/thepacman82/?hl=en\n",
      "0    https://www.instagram.com/thepacman82/?hl=en\n",
      "Name: id, dtype: object\n"
     ]
    }
   ],
   "source": [
    "lst=[]\n",
    "a=(data[data['name']=='philCohen'])\n",
    "a.reset_index()\n",
    "print(a)\n",
    "print(a['id'])"
   ]
  },
  {
   "cell_type": "code",
   "execution_count": 27,
   "metadata": {},
   "outputs": [
    {
     "ename": "IndexError",
     "evalue": "list index out of range",
     "output_type": "error",
     "traceback": [
      "\u001b[1;31m---------------------------------------------------------------------------\u001b[0m",
      "\u001b[1;31mIndexError\u001b[0m                                Traceback (most recent call last)",
      "\u001b[1;32m<ipython-input-27-32f1b87d4a56>\u001b[0m in \u001b[0;36m<module>\u001b[1;34m\u001b[0m\n\u001b[1;32m----> 1\u001b[1;33m \u001b[0mprint\u001b[0m\u001b[1;33m(\u001b[0m\u001b[1;33m(\u001b[0m\u001b[0mlst\u001b[0m\u001b[1;33m[\u001b[0m\u001b[1;36m0\u001b[0m\u001b[1;33m]\u001b[0m\u001b[1;33m)\u001b[0m\u001b[1;33m)\u001b[0m\u001b[1;33m\u001b[0m\u001b[1;33m\u001b[0m\u001b[0m\n\u001b[0m",
      "\u001b[1;31mIndexError\u001b[0m: list index out of range"
     ]
    }
   ],
   "source": [
    "print((lst[0]))"
   ]
  },
  {
   "cell_type": "code",
   "execution_count": null,
   "metadata": {},
   "outputs": [],
   "source": []
  }
 ],
 "metadata": {
  "kernelspec": {
   "display_name": "Python 3",
   "language": "python",
   "name": "python3"
  },
  "language_info": {
   "codemirror_mode": {
    "name": "ipython",
    "version": 3
   },
   "file_extension": ".py",
   "mimetype": "text/x-python",
   "name": "python",
   "nbconvert_exporter": "python",
   "pygments_lexer": "ipython3",
   "version": "3.7.3"
  }
 },
 "nbformat": 4,
 "nbformat_minor": 2
}
