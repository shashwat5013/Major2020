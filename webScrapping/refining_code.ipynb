{
 "cells": [
  {
   "cell_type": "code",
   "execution_count": 534,
   "metadata": {},
   "outputs": [],
   "source": [
    "import pandas as pd\n",
    "import re"
   ]
  },
  {
   "cell_type": "code",
   "execution_count": 535,
   "metadata": {},
   "outputs": [],
   "source": [
    "likes_data=pd.read_csv('C:/Users/shash/Desktop/Data_Science/Major2020/webScrapping/counts/jacquelinef143.csv')\n",
    "comments_data=pd.read_csv('C:/Users/shash/Desktop/Data_Science/Major2020/webScrapping/about_post/jacquelinef143.csv')"
   ]
  },
  {
   "cell_type": "code",
   "execution_count": 536,
   "metadata": {},
   "outputs": [
    {
     "data": {
      "text/plain": [
       "(2181, 2)"
      ]
     },
     "execution_count": 536,
     "metadata": {},
     "output_type": "execute_result"
    }
   ],
   "source": [
    "likes_data.shape"
   ]
  },
  {
   "cell_type": "code",
   "execution_count": null,
   "metadata": {},
   "outputs": [],
   "source": []
  },
  {
   "cell_type": "code",
   "execution_count": 537,
   "metadata": {},
   "outputs": [],
   "source": [
    "def changing_string_into_numbers(data_frame,name_of_col):\n",
    "    for i in range(0,data_frame.shape[0]):\n",
    "        string_=str(data_frame.iloc[i][name_of_col])\n",
    "        new_data=0\n",
    "        try:\n",
    "            for a in string_:\n",
    "                if(a=='m'):\n",
    "                    index_of=string_.find('m')\n",
    "                    number=float(string_[0:index_of])\n",
    "                    new_data=number*1000000\n",
    "                    break\n",
    "                elif(a=='k'):\n",
    "                    index_of=string_.find('k')\n",
    "                    number=float(string_[0:index_of])\n",
    "                    new_data=number*1000\n",
    "                    break\n",
    "                    \n",
    "        finally:\n",
    "            if new_data==0:\n",
    "                new_data=float(string_.replace(',',''))\n",
    "            data_frame.at[i,name_of_col]=new_data\n",
    "            \n",
    "    return data_frame "
   ]
  },
  {
   "cell_type": "code",
   "execution_count": 538,
   "metadata": {},
   "outputs": [],
   "source": [
    "new_data_frame_likes=changing_string_into_numbers(likes_data,'likes')"
   ]
  },
  {
   "cell_type": "code",
   "execution_count": 539,
   "metadata": {
    "scrolled": true
   },
   "outputs": [],
   "source": [
    "new_data_frame_likes=changing_string_into_numbers(new_data_frame_likes,'comments')"
   ]
  },
  {
   "cell_type": "code",
   "execution_count": 540,
   "metadata": {},
   "outputs": [
    {
     "name": "stdout",
     "output_type": "stream",
     "text": [
      "(2181, 2) (1106, 5)\n"
     ]
    }
   ],
   "source": [
    "print(likes_data.shape,comments_data.shape)"
   ]
  },
  {
   "cell_type": "code",
   "execution_count": 541,
   "metadata": {},
   "outputs": [],
   "source": []
  },
  {
   "cell_type": "code",
   "execution_count": 542,
   "metadata": {},
   "outputs": [],
   "source": [
    "def is_video_or_posts(data_frame):\n",
    "    lst=[]\n",
    "    for i in range(0,data_frame.shape[0]):\n",
    "        about=data_frame.iloc[i]['likes']\n",
    "        if(about.find('likes')!=-1):\n",
    "            lst.append('post')\n",
    "        else:\n",
    "            lst.append('video')\n",
    "        new_about=about.split(' ')[0]\n",
    "        #print(about,new_about)\n",
    "        data_frame.at[i,'likes']=new_about\n",
    "    return (lst,data_frame)"
   ]
  },
  {
   "cell_type": "code",
   "execution_count": null,
   "metadata": {},
   "outputs": [],
   "source": []
  },
  {
   "cell_type": "code",
   "execution_count": 543,
   "metadata": {},
   "outputs": [],
   "source": [
    "lst=is_video_or_posts(comments_data)"
   ]
  },
  {
   "cell_type": "code",
   "execution_count": 544,
   "metadata": {},
   "outputs": [],
   "source": [
    "new_data_frame_post=lst[1]\n",
    "new_data_frame_post['type']=lst[0]\n",
    "new_data_frame_post=changing_string_into_numbers(new_data_frame_post,'likes')\n",
    "new_data_frame_post['comments']=new_data_frame_likes['comments']\n",
    "new_data_frame_post=new_data_frame_post.dropna()"
   ]
  },
  {
   "cell_type": "code",
   "execution_count": 545,
   "metadata": {},
   "outputs": [],
   "source": [
    "def refining_about_post(data_frame):\n",
    "    final_tagged=[]\n",
    "    for i in range(0,data_frame.shape[0]):\n",
    "        about=data_frame.iloc[i]['about_post']\n",
    "        try:\n",
    "            about=about.split(' ')\n",
    "        except:\n",
    "            print('cannot split',about)\n",
    "        tagged_names=[]\n",
    "        lst=[]\n",
    "        #print(type(len(about)))\n",
    "        for a in about:\n",
    "            #print(a)\n",
    "            if(a.find('@')!=-1):\n",
    "                tagged_names.append(a.replace('@',''))\n",
    "                a=\" \";\n",
    "            re.sub('^[a-zA-Z]','',a)\n",
    "            lst.append(a.replace(\"\\n\", \" \"))\n",
    "        #print(lst)\n",
    "        string=\" \"\n",
    "        for val in lst:\n",
    "            string+=val\n",
    "        data_frame.at[i,'about_post']=string\n",
    "        string=\" \"\n",
    "        for val in tagged_names:\n",
    "            string+=\" @\"+val\n",
    "        string = string.replace(\"\\n\",\" \")\n",
    "        #print(string)\n",
    "        final_tagged.append(string)\n",
    "        #print(data_frame.head(n=1))\n",
    "        tagged_names=[]\n",
    "        lst=[]\n",
    "    return (data_frame,final_tagged)\n",
    "    "
   ]
  },
  {
   "cell_type": "code",
   "execution_count": 546,
   "metadata": {},
   "outputs": [
    {
     "name": "stderr",
     "output_type": "stream",
     "text": [
      "C:\\Users\\shash\\Anaconda3\\lib\\site-packages\\pandas\\core\\frame.py:2823: SettingWithCopyWarning: \n",
      "A value is trying to be set on a copy of a slice from a DataFrame\n",
      "\n",
      "See the caveats in the documentation: http://pandas.pydata.org/pandas-docs/stable/indexing.html#indexing-view-versus-copy\n",
      "  self.loc[index, col] = value\n"
     ]
    },
    {
     "name": "stdout",
     "output_type": "stream",
     "text": [
      "1090 (1090, 5)\n"
     ]
    }
   ],
   "source": [
    "temperoray=refining_about_post(new_data_frame_post)\n",
    "new_data_frame_post=temperoray[0]\n",
    "#new_data_frame_post['tagged_names']=temperoray[1]\n",
    "while(len(temperoray[1])!=new_data_frame_post.shape[0]):\n",
    "    temperoray[1].append(\" \")\n",
    "print(len(temperoray[1]),new_data_frame_post.shape)\n",
    "new_data_frame_post['tagged_names']=temperoray[1]    \n"
   ]
  },
  {
   "cell_type": "code",
   "execution_count": 547,
   "metadata": {},
   "outputs": [],
   "source": [
    "new_data_frame_post=new_data_frame_post.dropna()\n",
    "#new_data_frame_post=new_data_frame_post.reset_index()\n",
    "new_data_frame_post=new_data_frame_post[new_data_frame_post['likes']!=0.0]\n",
    "#print(new_data_frame_post)\n",
    "for i in range(new_data_frame_post.shape[0]):\n",
    "    #print(int(new_data_frame_post.iloc[i]['likes']))\n",
    "    if(int(new_data_frame_post.iloc[i]['likes'])==0):\n",
    "        print(i)\n",
    "        print(new_data_frame_post.iloc[i])\n",
    "        new_data_frame_post.drop([new_data_frame_post.index[i]])"
   ]
  },
  {
   "cell_type": "code",
   "execution_count": 548,
   "metadata": {},
   "outputs": [],
   "source": [
    "new_data_frame_post.to_csv('C:\\\\Users\\\\shash\\\\Desktop\\\\Data_Science\\\\Major2020\\\\webScrapping\\\\refined\\\\jacquelinef143.csv',index=False)        "
   ]
  },
  {
   "cell_type": "code",
   "execution_count": null,
   "metadata": {},
   "outputs": [],
   "source": []
  },
  {
   "cell_type": "code",
   "execution_count": null,
   "metadata": {},
   "outputs": [],
   "source": []
  },
  {
   "cell_type": "code",
   "execution_count": null,
   "metadata": {},
   "outputs": [],
   "source": []
  }
 ],
 "metadata": {
  "kernelspec": {
   "display_name": "Python 3",
   "language": "python",
   "name": "python3"
  },
  "language_info": {
   "codemirror_mode": {
    "name": "ipython",
    "version": 3
   },
   "file_extension": ".py",
   "mimetype": "text/x-python",
   "name": "python",
   "nbconvert_exporter": "python",
   "pygments_lexer": "ipython3",
   "version": "3.7.3"
  }
 },
 "nbformat": 4,
 "nbformat_minor": 2
}
